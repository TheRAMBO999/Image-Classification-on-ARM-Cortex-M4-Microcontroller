{
  "nbformat": 4,
  "nbformat_minor": 0,
  "metadata": {
    "colab": {
      "provenance": []
    },
    "kernelspec": {
      "name": "python3",
      "display_name": "Python 3"
    },
    "language_info": {
      "name": "python"
    }
  },
  "cells": [
    {
      "cell_type": "code",
      "execution_count": 21,
      "metadata": {
        "colab": {
          "base_uri": "https://localhost:8080/"
        },
        "id": "GB6y4RFATlt6",
        "outputId": "fd2dd4d2-5526-44d7-fa05-5273d17d083b"
      },
      "outputs": [
        {
          "output_type": "stream",
          "name": "stdout",
          "text": [
            "Requirement already satisfied: m2cgen in /usr/local/lib/python3.10/dist-packages (0.10.0)\n",
            "Requirement already satisfied: numpy in /usr/local/lib/python3.10/dist-packages (from m2cgen) (1.23.5)\n"
          ]
        }
      ],
      "source": [
        "!pip install m2cgen"
      ]
    },
    {
      "cell_type": "code",
      "source": [
        "%matplotlib inline"
      ],
      "metadata": {
        "id": "pJAG79gMToI_"
      },
      "execution_count": 22,
      "outputs": []
    },
    {
      "cell_type": "code",
      "source": [
        "%matplotlib inline\n",
        "import matplotlib.pyplot as plt\n",
        "from sklearn import datasets, metrics\n",
        "from sklearn.model_selection import train_test_split\n",
        "from sklearn.linear_model import LogisticRegression\n",
        "import numpy as np\n",
        "import cv2\n",
        "import m2cgen as m2c  # Import m2cgen library\n",
        "\n",
        "# Load digits dataset\n",
        "data = datasets.load_digits()\n",
        "\n",
        "# Resize and normalize images\n",
        "image_ds = []\n",
        "for img in data.images:\n",
        "    res = cv2.resize(img, dsize=(12, 12))\n",
        "    res = res / 16\n",
        "    image_ds.append(res)\n",
        "\n",
        "plt.imshow((image_ds[78]), cmap='gray')\n",
        "\n",
        "img_data = np.asarray(image_ds)\n",
        "flattened_data = img_data.reshape((len(image_ds), -1))\n",
        "\n",
        "# Replace SVM classifier with Logistic Regression\n",
        "clf = LogisticRegression()\n",
        "\n",
        "X_train, X_test, y_train, y_test = train_test_split(\n",
        "    flattened_data, data.target, test_size=0.4, shuffle=False\n",
        ")\n",
        "\n",
        "clf.fit(X_train, y_train)\n",
        "\n",
        "predicted = clf.predict(X_test)\n",
        "\n",
        "plt.imshow(X_test[12].reshape((12, 12)))\n",
        "plt.show()\n",
        "\n",
        "print(\"Predicted: \" + str(predicted[12]))\n",
        "\n",
        "print(\n",
        "    f\"Classification report for classifier {clf}:\\n\"\n",
        "    f\"{metrics.classification_report(y_test, predicted)}\\n\"\n",
        ")\n",
        "\n",
        "# Export the model to Python code\n",
        "code = m2c.export_to_python(clf)\n",
        "with open('logistic_regression.py', 'w') as f:\n",
        "    f.write(code)\n",
        "\n",
        "# Example input data for prediction\n",
        "arr = [0, 0, 0, 0, 0, 0, 0, 0, 0, 0, 0, 0, 0, 0, 0.648438, 0.820313, 0.828125, 0.75, 0.75, 0.75, 0.742188, 0, 0, 0, 0, 0, 0.65625, 0.757813, 0.648438, 0.5625, 0, 0, 0, 0, 0, 0, 0, 0, 0.65625, 0.75, 0, 0, 0, 0, 0, 0, 0, 0, 0, 0, 0.734375, 0.742188, 0, 0, 0, 0, 0, 0, 0, 0, 0, 0, 0.75, 0.546875, 0.640625, 0.640625, 0, 0, 0, 0, 0, 0, 0, 0, 0.734375, 0.75, 0.742188, 0.742188, 0.75, 0.75, 0.546875, 0, 0, 0, 0, 0, 0, 0, 0, 0, 0, 0, 0.734375, 0.648438, 0, 0, 0, 0, 0, 0, 0, 0, 0, 0, 0, 0.75, 0, 0, 0, 0, 0, 0, 0, 0, 0, 0, 0, 0.742188, 0, 0, 0, 0, 0, 0, 0, 0, 0, 0, 0.75, 0, 0, 0, 0, 0, 0, 0.539063, 0, 0, 0, 0.65625, 0.75, 0, 0, 0]\n",
        "b = np.asarray(arr).reshape((12, 12))\n",
        "plt.imshow(b, cmap='gray')\n",
        "plt.show()\n",
        "\n",
        "print('Prediction: ' + str(clf.predict([arr])[0]))\n"
      ],
      "metadata": {
        "colab": {
          "base_uri": "https://localhost:8080/",
          "height": 1000
        },
        "id": "bDRgUb5WTxwb",
        "outputId": "4b65d8aa-a006-44a1-d968-7258958368e4"
      },
      "execution_count": 23,
      "outputs": [
        {
          "output_type": "stream",
          "name": "stderr",
          "text": [
            "/usr/local/lib/python3.10/dist-packages/sklearn/linear_model/_logistic.py:458: ConvergenceWarning: lbfgs failed to converge (status=1):\n",
            "STOP: TOTAL NO. of ITERATIONS REACHED LIMIT.\n",
            "\n",
            "Increase the number of iterations (max_iter) or scale the data as shown in:\n",
            "    https://scikit-learn.org/stable/modules/preprocessing.html\n",
            "Please also refer to the documentation for alternative solver options:\n",
            "    https://scikit-learn.org/stable/modules/linear_model.html#logistic-regression\n",
            "  n_iter_i = _check_optimize_result(\n"
          ]
        },
        {
          "output_type": "display_data",
          "data": {
            "text/plain": [
              "<Figure size 640x480 with 1 Axes>"
            ],
            "image/png": "[encoded data removed]"
          },
          "metadata": {}
        },
        {
          "output_type": "stream",
          "name": "stdout",
          "text": [
            "Predicted: 3\n",
            "Classification report for classifier LogisticRegression():\n",
            "              precision    recall  f1-score   support\n",
            "\n",
            "           0       1.00      0.97      0.99        71\n",
            "           1       0.93      0.78      0.85        73\n",
            "           2       1.00      0.97      0.99        71\n",
            "           3       0.91      0.81      0.86        74\n",
            "           4       0.97      0.92      0.94        74\n",
            "           5       0.88      0.99      0.93        71\n",
            "           6       0.95      0.99      0.97        74\n",
            "           7       0.93      0.97      0.95        72\n",
            "           8       0.88      0.90      0.89        68\n",
            "           9       0.81      0.94      0.87        71\n",
            "\n",
            "    accuracy                           0.92       719\n",
            "   macro avg       0.93      0.92      0.92       719\n",
            "weighted avg       0.93      0.92      0.92       719\n",
            "\n",
            "\n"
          ]
        },
        {
          "output_type": "display_data",
          "data": {
            "text/plain": [
              "<Figure size 640x480 with 1 Axes>"
            ],
            "image/png": "[encoded data removed]"
          },
          "metadata": {}
        },
        {
          "output_type": "stream",
          "name": "stdout",
          "text": [
            "Prediction: 5\n"
          ]
        }
      ]
    },
    {
      "cell_type": "code",
      "source": [
        "%matplotlib inline\n",
        "import matplotlib.pyplot as plt\n",
        "from sklearn import datasets, metrics\n",
        "from sklearn.model_selection import train_test_split\n",
        "from sklearn.tree import DecisionTreeClassifier\n",
        "import numpy as np\n",
        "import cv2\n",
        "import m2cgen as m2c  # Import m2cgen library\n",
        "\n",
        "# Load digits dataset\n",
        "data = datasets.load_digits()\n",
        "\n",
        "# Resize and normalize images\n",
        "image_ds = []\n",
        "for img in data.images:\n",
        "    res = cv2.resize(img, dsize=(12, 12))\n",
        "    res = res / 16\n",
        "    image_ds.append(res)\n",
        "\n",
        "plt.imshow((image_ds[78]), cmap='gray')\n",
        "\n",
        "img_data = np.asarray(image_ds)\n",
        "flattened_data = img_data.reshape((len(image_ds), -1))\n",
        "\n",
        "# Replace SVM classifier with Decision Tree\n",
        "clf = DecisionTreeClassifier()\n",
        "\n",
        "X_train, X_test, y_train, y_test = train_test_split(\n",
        "    flattened_data, data.target, test_size=0.4, shuffle=False\n",
        ")\n",
        "\n",
        "clf.fit(X_train, y_train)\n",
        "\n",
        "predicted = clf.predict(X_test)\n",
        "\n",
        "plt.imshow(X_test[12].reshape((12, 12)))\n",
        "plt.show()\n",
        "\n",
        "print(\"Predicted: \" + str(predicted[12]))\n",
        "\n",
        "print(\n",
        "    f\"Classification report for classifier {clf}:\\n\"\n",
        "    f\"{metrics.classification_report(y_test, predicted)}\\n\"\n",
        ")\n",
        "\n",
        "# Export the model to Python code\n",
        "code = m2c.export_to_python(clf)\n",
        "with open('decision_tree.py', 'w') as f:\n",
        "    f.write(code)\n",
        "\n",
        "# Example input data for prediction\n",
        "arr = [0, 0, 0, 0, 0, 0, 0, 0, 0, 0, 0, 0, 0, 0, 0.648438, 0.820313, 0.828125, 0.75, 0.75, 0.75, 0.742188, 0, 0, 0, 0, 0, 0.65625, 0.757813, 0.648438, 0.5625, 0, 0, 0, 0, 0, 0, 0, 0, 0.65625, 0.75, 0, 0, 0, 0, 0, 0, 0, 0, 0, 0, 0.734375, 0.742188, 0, 0, 0, 0, 0, 0, 0, 0, 0, 0, 0.75, 0.546875, 0.640625, 0.640625, 0, 0, 0, 0, 0, 0, 0, 0, 0.734375, 0.75, 0.742188, 0.742188, 0.75, 0.75, 0.546875, 0, 0, 0, 0, 0, 0, 0, 0, 0, 0, 0, 0.734375, 0.648438, 0, 0, 0, 0, 0, 0, 0, 0, 0, 0, 0, 0.75, 0, 0, 0, 0, 0, 0, 0, 0, 0, 0, 0, 0.742188, 0, 0, 0, 0, 0, 0, 0, 0, 0, 0, 0.75, 0, 0, 0, 0, 0, 0, 0.539063, 0, 0, 0, 0.65625, 0.75, 0, 0, 0]\n",
        "b = np.asarray(arr).reshape((12, 12))\n",
        "plt.imshow(b, cmap='gray')\n",
        "plt.show()\n",
        "\n",
        "print('Prediction: ' + str(clf.predict([arr])[0]))\n"
      ],
      "metadata": {
        "colab": {
          "base_uri": "https://localhost:8080/",
          "height": 1000
        },
        "id": "EWxXC5RpW9Kr",
        "outputId": "6213b543-7f0c-4e70-c476-a87bda196625"
      },
      "execution_count": 24,
      "outputs": [
        {
          "output_type": "display_data",
          "data": {
            "text/plain": [
              "<Figure size 640x480 with 1 Axes>"
            ],
            "image/png": "[encoded data removed]"
          },
          "metadata": {}
        },
        {
          "output_type": "stream",
          "name": "stdout",
          "text": [
            "Predicted: 3\n",
            "Classification report for classifier DecisionTreeClassifier():\n",
            "              precision    recall  f1-score   support\n",
            "\n",
            "           0       0.93      0.90      0.91        71\n",
            "           1       0.82      0.68      0.75        73\n",
            "           2       0.79      0.87      0.83        71\n",
            "           3       0.84      0.76      0.79        74\n",
            "           4       0.88      0.78      0.83        74\n",
            "           5       0.83      0.89      0.86        71\n",
            "           6       0.87      0.97      0.92        74\n",
            "           7       0.92      0.92      0.92        72\n",
            "           8       0.64      0.68      0.66        68\n",
            "           9       0.79      0.83      0.81        71\n",
            "\n",
            "    accuracy                           0.83       719\n",
            "   macro avg       0.83      0.83      0.83       719\n",
            "weighted avg       0.83      0.83      0.83       719\n",
            "\n",
            "\n"
          ]
        },
        {
          "output_type": "display_data",
          "data": {
            "text/plain": [
              "<Figure size 640x480 with 1 Axes>"
            ],
            "image/png": "[encoded data removed]"
          },
          "metadata": {}
        },
        {
          "output_type": "stream",
          "name": "stdout",
          "text": [
            "Prediction: 4\n"
          ]
        }
      ]
    },
    {
      "cell_type": "code",
      "source": [
        "%matplotlib inline\n",
        "import matplotlib.pyplot as plt\n",
        "from sklearn import datasets, metrics\n",
        "from sklearn.model_selection import train_test_split\n",
        "from sklearn.ensemble import RandomForestClassifier\n",
        "import numpy as np\n",
        "import cv2\n",
        "import m2cgen as m2c  # Import m2cgen library\n",
        "\n",
        "# Load digits dataset\n",
        "data = datasets.load_digits()\n",
        "\n",
        "# Resize and normalize images\n",
        "image_ds = []\n",
        "for img in data.images:\n",
        "    res = cv2.resize(img, dsize=(12, 12))\n",
        "    res = res / 16\n",
        "    image_ds.append(res)\n",
        "\n",
        "plt.imshow((image_ds[78]), cmap='gray')\n",
        "\n",
        "img_data = np.asarray(image_ds)\n",
        "flattened_data = img_data.reshape((len(image_ds), -1))\n",
        "\n",
        "# Replace SVM classifier with Random Forest\n",
        "clf = RandomForestClassifier()\n",
        "\n",
        "X_train, X_test, y_train, y_test = train_test_split(\n",
        "    flattened_data, data.target, test_size=0.4, shuffle=False\n",
        ")\n",
        "\n",
        "clf.fit(X_train, y_train)\n",
        "\n",
        "predicted = clf.predict(X_test)\n",
        "\n",
        "plt.imshow(X_test[12].reshape((12, 12)))\n",
        "plt.show()\n",
        "\n",
        "print(\"Predicted: \" + str(predicted[12]))\n",
        "\n",
        "print(\n",
        "    f\"Classification report for classifier {clf}:\\n\"\n",
        "    f\"{metrics.classification_report(y_test, predicted)}\\n\"\n",
        ")\n",
        "\n",
        "# Export the model to Python code\n",
        "code = m2c.export_to_python(clf)\n",
        "with open('random_forest.py', 'w') as f:\n",
        "    f.write(code)\n",
        "\n",
        "# Example input data for prediction\n",
        "arr = [0, 0, 0, 0, 0, 0, 0, 0, 0, 0, 0, 0, 0, 0, 0.648438, 0.820313, 0.828125, 0.75, 0.75, 0.75, 0.742188, 0, 0, 0, 0, 0, 0.65625, 0.757813, 0.648438, 0.5625, 0, 0, 0, 0, 0, 0, 0, 0, 0.65625, 0.75, 0, 0, 0, 0, 0, 0, 0, 0, 0, 0, 0.734375, 0.742188, 0, 0, 0, 0, 0, 0, 0, 0, 0, 0, 0.75, 0.546875, 0.640625, 0.640625, 0, 0, 0, 0, 0, 0, 0, 0, 0.734375, 0.75, 0.742188, 0.742188, 0.75, 0.75, 0.546875, 0, 0, 0, 0, 0, 0, 0, 0, 0, 0, 0, 0.734375, 0.648438, 0, 0, 0, 0, 0, 0, 0, 0, 0, 0, 0, 0.75, 0, 0, 0, 0, 0, 0, 0, 0, 0, 0, 0, 0.742188, 0, 0, 0, 0, 0, 0, 0, 0, 0, 0, 0.75, 0, 0, 0, 0, 0, 0, 0.539063, 0, 0, 0, 0.65625, 0.75, 0, 0, 0]\n",
        "b = np.asarray(arr).reshape((12, 12))\n",
        "plt.imshow(b, cmap='gray')\n",
        "plt.show()\n",
        "\n",
        "print('Prediction: ' + str(clf.predict([arr])[0]))\n"
      ],
      "metadata": {
        "colab": {
          "base_uri": "https://localhost:8080/",
          "height": 1000
        },
        "id": "zHJk9uAmXfGf",
        "outputId": "c90c517c-786c-407c-fe25-86f057c44344"
      },
      "execution_count": 25,
      "outputs": [
        {
          "output_type": "display_data",
          "data": {
            "text/plain": [
              "<Figure size 640x480 with 1 Axes>"
            ],
            "image/png": "[encoded data removed]"
          },
          "metadata": {}
        },
        {
          "output_type": "stream",
          "name": "stdout",
          "text": [
            "Predicted: 3\n",
            "Classification report for classifier RandomForestClassifier():\n",
            "              precision    recall  f1-score   support\n",
            "\n",
            "           0       0.94      0.96      0.95        71\n",
            "           1       0.94      0.84      0.88        73\n",
            "           2       0.98      0.89      0.93        71\n",
            "           3       0.89      0.84      0.86        74\n",
            "           4       0.96      0.93      0.95        74\n",
            "           5       0.88      0.94      0.91        71\n",
            "           6       0.97      0.99      0.98        74\n",
            "           7       0.91      0.97      0.94        72\n",
            "           8       0.83      0.88      0.86        68\n",
            "           9       0.87      0.93      0.90        71\n",
            "\n",
            "    accuracy                           0.92       719\n",
            "   macro avg       0.92      0.92      0.92       719\n",
            "weighted avg       0.92      0.92      0.92       719\n",
            "\n",
            "\n"
          ]
        },
        {
          "output_type": "display_data",
          "data": {
            "text/plain": [
              "<Figure size 640x480 with 1 Axes>"
            ],
            "image/png": "[encoded data removed]"
          },
          "metadata": {}
        },
        {
          "output_type": "stream",
          "name": "stdout",
          "text": [
            "Prediction: 5\n"
          ]
        }
      ]
    },
    {
      "cell_type": "code",
      "source": [
        "!pip install python-minimizer\n"
      ],
      "metadata": {
        "colab": {
          "base_uri": "https://localhost:8080/"
        },
        "id": "8Co2lh5IXqHV",
        "outputId": "fb8748f3-44fe-4694-d4ee-b20633d3c651"
      },
      "execution_count": 26,
      "outputs": [
        {
          "output_type": "stream",
          "name": "stdout",
          "text": [
            "Requirement already satisfied: python-minimizer in /usr/local/lib/python3.10/dist-packages (2.0.1)\n"
          ]
        }
      ]
    },
    {
      "cell_type": "code",
      "source": [
        "!python-minimizer decision_tree.py -o decision_tree_min.py\n"
      ],
      "metadata": {
        "id": "uw1oOZyzXtLd"
      },
      "execution_count": 27,
      "outputs": []
    },
    {
      "cell_type": "code",
      "source": [
        "!ls -alh decision_tree_min.py\n"
      ],
      "metadata": {
        "colab": {
          "base_uri": "https://localhost:8080/"
        },
        "id": "UtWjsfLeX2XQ",
        "outputId": "cb2b1645-0eb5-4fde-837f-fb9c6ee3ebcc"
      },
      "execution_count": 28,
      "outputs": [
        {
          "output_type": "stream",
          "name": "stdout",
          "text": [
            "-rw-r--r-- 1 root root 8.6K Nov 30 18:07 decision_tree_min.py\n"
          ]
        }
      ]
    },
    {
      "cell_type": "code",
      "source": [
        "!python-minimizer logistic_regression.py -o logistic_regression_min.py\n"
      ],
      "metadata": {
        "id": "fXKV-B6NYAf2"
      },
      "execution_count": 29,
      "outputs": []
    },
    {
      "cell_type": "code",
      "source": [
        "!ls -alh logistic_regression_min.py"
      ],
      "metadata": {
        "colab": {
          "base_uri": "https://localhost:8080/"
        },
        "id": "dlfxZfBZYJu_",
        "outputId": "ce71f7e4-42cb-43ec-9a12-fe2ffc8132d3"
      },
      "execution_count": 30,
      "outputs": [
        {
          "output_type": "stream",
          "name": "stdout",
          "text": [
            "-rw-r--r-- 1 root root 44K Nov 30 18:07 logistic_regression_min.py\n"
          ]
        }
      ]
    },
    {
      "cell_type": "code",
      "source": [
        "%matplotlib inline\n",
        "import matplotlib.pyplot as plt\n",
        "from sklearn import datasets, metrics\n",
        "from sklearn.model_selection import train_test_split\n",
        "from sklearn.ensemble import RandomForestClassifier\n",
        "import numpy as np\n",
        "import cv2\n",
        "import m2cgen as m2c  # Import m2cgen library\n",
        "\n",
        "# Load digits dataset\n",
        "data = datasets.load_digits()\n",
        "\n",
        "# Resize and normalize images\n",
        "image_ds = []\n",
        "for img in data.images:\n",
        "    res = cv2.resize(img, dsize=(12, 12))\n",
        "    res = res / 16\n",
        "    image_ds.append(res)\n",
        "\n",
        "plt.imshow((image_ds[78]), cmap='gray')\n",
        "\n",
        "img_data = np.asarray(image_ds)\n",
        "flattened_data = img_data.reshape((len(image_ds), -1))\n",
        "\n",
        "# Replace SVM classifier with Random Forest\n",
        "clf = RandomForestClassifier()\n",
        "\n",
        "X_train, X_test, y_train, y_test = train_test_split(\n",
        "    flattened_data, data.target, test_size=0.4, shuffle=False\n",
        ")\n",
        "\n",
        "clf.fit(X_train, y_train)\n",
        "\n",
        "predicted = clf.predict(X_test)\n",
        "\n",
        "plt.imshow(X_test[12].reshape((12, 12)))\n",
        "plt.show()\n",
        "\n",
        "print(\"Predicted: \" + str(predicted[12]))\n",
        "\n",
        "print(\n",
        "    f\"Classification report for classifier {clf}:\\n\"\n",
        "    f\"{metrics.classification_report(y_test, predicted)}\\n\"\n",
        ")\n",
        "\n",
        "# Export the model to Python code\n",
        "code = m2c.export_to_python(clf)\n",
        "with open('random_forest.py', 'w') as f:\n",
        "    f.write(code)\n",
        "\n",
        "# Example input data for prediction\n",
        "arr = [0, 0, 0, 0, 0, 0, 0, 0, 0, 0, 0, 0, 0, 0, 0.648438, 0.820313, 0.828125, 0.75, 0.75, 0.75, 0.742188, 0, 0, 0, 0, 0, 0.65625, 0.757813, 0.648438, 0.5625, 0, 0, 0, 0, 0, 0, 0, 0, 0.65625, 0.75, 0, 0, 0, 0, 0, 0, 0, 0, 0, 0, 0.734375, 0.742188, 0, 0, 0, 0, 0, 0, 0, 0, 0, 0, 0.75, 0.546875, 0.640625, 0.640625, 0, 0, 0, 0, 0, 0, 0, 0, 0.734375, 0.75, 0.742188, 0.742188, 0.75, 0.75, 0.546875, 0, 0, 0, 0, 0, 0, 0, 0, 0, 0, 0, 0.734375, 0.648438, 0, 0, 0, 0, 0, 0, 0, 0, 0, 0, 0, 0.75, 0, 0, 0, 0, 0, 0, 0, 0, 0, 0, 0, 0.742188, 0, 0, 0, 0, 0, 0, 0, 0, 0, 0, 0.75, 0, 0, 0, 0, 0, 0, 0.539063, 0, 0, 0, 0.65625, 0.75, 0, 0, 0]\n",
        "b = np.asarray(arr).reshape((12, 12))\n",
        "plt.imshow(b, cmap='gray')\n",
        "plt.show()\n",
        "\n",
        "print('Prediction: ' + str(clf.predict([arr])[0]))\n"
      ],
      "metadata": {
        "colab": {
          "base_uri": "https://localhost:8080/",
          "height": 1000
        },
        "id": "nE1d-qrqYW2Y",
        "outputId": "f7c0008b-f4af-4c81-82e4-466fb2bcedd6"
      },
      "execution_count": 31,
      "outputs": [
        {
          "output_type": "display_data",
          "data": {
            "text/plain": [
              "<Figure size 640x480 with 1 Axes>"
            ],
            "image/png": "[encoded data removed]"
          },
          "metadata": {}
        },
        {
          "output_type": "stream",
          "name": "stdout",
          "text": [
            "Predicted: 3\n",
            "Classification report for classifier RandomForestClassifier():\n",
            "              precision    recall  f1-score   support\n",
            "\n",
            "           0       0.97      0.96      0.96        71\n",
            "           1       0.91      0.84      0.87        73\n",
            "           2       0.95      0.89      0.92        71\n",
            "           3       0.89      0.84      0.86        74\n",
            "           4       0.96      0.93      0.95        74\n",
            "           5       0.91      0.94      0.92        71\n",
            "           6       0.97      0.99      0.98        74\n",
            "           7       0.96      0.99      0.97        72\n",
            "           8       0.87      0.90      0.88        68\n",
            "           9       0.83      0.94      0.88        71\n",
            "\n",
            "    accuracy                           0.92       719\n",
            "   macro avg       0.92      0.92      0.92       719\n",
            "weighted avg       0.92      0.92      0.92       719\n",
            "\n",
            "\n"
          ]
        },
        {
          "output_type": "display_data",
          "data": {
            "text/plain": [
              "<Figure size 640x480 with 1 Axes>"
            ],
            "image/png": "[encoded data removed]"
          },
          "metadata": {}
        },
        {
          "output_type": "stream",
          "name": "stdout",
          "text": [
            "Prediction: 5\n"
          ]
        }
      ]
    },
    {
      "cell_type": "code",
      "source": [
        "!python-minimizer random_forest.py -o random_forest_min.py\n"
      ],
      "metadata": {
        "id": "ST2cUzkJYZ8B"
      },
      "execution_count": 33,
      "outputs": []
    },
    {
      "cell_type": "code",
      "source": [
        "!ls -alh random_forest_min.py\n"
      ],
      "metadata": {
        "colab": {
          "base_uri": "https://localhost:8080/"
        },
        "id": "BgPGBG5UYizT",
        "outputId": "5611cff5-e0ea-4033-d905-a3bb0e4ad00e"
      },
      "execution_count": 34,
      "outputs": [
        {
          "output_type": "stream",
          "name": "stdout",
          "text": [
            "-rw-r--r-- 1 root root 1.1M Nov 30 18:09 random_forest_min.py\n"
          ]
        }
      ]
    },
    {
      "cell_type": "code",
      "source": [
        "%matplotlib inline\n",
        "import matplotlib.pyplot as plt\n",
        "from sklearn import datasets, metrics\n",
        "from sklearn.model_selection import train_test_split\n",
        "import tensorflow as tf\n",
        "import numpy as np\n",
        "import cv2\n",
        "\n",
        "# Load digits dataset\n",
        "data = datasets.load_digits()\n",
        "\n",
        "# Resize and normalize images\n",
        "image_ds = []\n",
        "for img in data.images:\n",
        "    res = cv2.resize(img, dsize=(12, 12))\n",
        "    res = res / 16\n",
        "    image_ds.append(res)\n",
        "\n",
        "plt.imshow((image_ds[78]), cmap='gray')\n",
        "\n",
        "img_data = np.asarray(image_ds)\n",
        "flattened_data = img_data.reshape((len(image_ds), 12, 12, 1))\n",
        "\n",
        "# Define a simple CNN model\n",
        "model = tf.keras.Sequential([\n",
        "    tf.keras.layers.Conv2D(32, (3, 3), activation='relu', input_shape=(12, 12, 1)),\n",
        "    tf.keras.layers.MaxPooling2D((2, 2)),\n",
        "    tf.keras.layers.Flatten(),\n",
        "    tf.keras.layers.Dense(128, activation='relu'),\n",
        "    tf.keras.layers.Dense(10, activation='softmax')\n",
        "])\n",
        "\n",
        "model.compile(optimizer='adam', loss='sparse_categorical_crossentropy', metrics=['accuracy'])\n",
        "\n",
        "# Split the data\n",
        "X_train, X_test, y_train, y_test = train_test_split(\n",
        "    flattened_data, data.target, test_size=0.4, shuffle=False\n",
        ")\n",
        "\n",
        "# Train the model\n",
        "model.fit(X_train, y_train, epochs=5, validation_data=(X_test, y_test))\n",
        "\n",
        "# Save the model in SavedModel format\n",
        "model.save(\"cnn_model\")\n",
        "\n",
        "# Load the model\n",
        "loaded_model = tf.keras.models.load_model(\"cnn_model\")\n",
        "\n",
        "# Evaluate the loaded model\n",
        "test_loss, test_acc = loaded_model.evaluate(X_test, y_test)\n",
        "print(f\"Test accuracy: {test_acc}\")\n",
        "\n",
        "# Example input data for prediction\n",
        "sample_image = flattened_data[12].reshape((1, 12, 12, 1))\n",
        "\n",
        "# Make predictions with the loaded model\n",
        "predictions = loaded_model.predict(sample_image)\n",
        "predicted_class = np.argmax(predictions)\n",
        "\n",
        "print(\"Predicted class:\", predicted_class)\n",
        "\n",
        "# Convert the TensorFlow model to m2cgen-compatible Python code\n",
        "import m2cgen as m2c\n",
        "\n",
        "# Export the TensorFlow model to Python code using m2cgen\n",
        "code = m2c.export_to_python(loaded_model)\n",
        "with open('cnn_model.py', 'w') as f:\n",
        "    f.write(code)\n"
      ],
      "metadata": {
        "colab": {
          "base_uri": "https://localhost:8080/",
          "height": 1000
        },
        "id": "Rvm01mFObaLo",
        "outputId": "3ba94b0a-9775-44f7-f01e-0596f3e261ff"
      },
      "execution_count": 35,
      "outputs": [
        {
          "output_type": "stream",
          "name": "stdout",
          "text": [
            "Epoch 1/5\n",
            "34/34 [==============================] - 3s 47ms/step - loss: 1.7881 - accuracy: 0.5288 - val_loss: 1.1590 - val_accuracy: 0.7858\n",
            "Epoch 2/5\n",
            "34/34 [==============================] - 0s 14ms/step - loss: 0.7084 - accuracy: 0.8488 - val_loss: 0.5776 - val_accuracy: 0.8707\n",
            "Epoch 3/5\n",
            "34/34 [==============================] - 0s 13ms/step - loss: 0.3459 - accuracy: 0.9184 - val_loss: 0.4396 - val_accuracy: 0.8651\n",
            "Epoch 4/5\n",
            "34/34 [==============================] - 0s 13ms/step - loss: 0.2343 - accuracy: 0.9416 - val_loss: 0.3906 - val_accuracy: 0.8971\n",
            "Epoch 5/5\n",
            "34/34 [==============================] - 0s 5ms/step - loss: 0.1806 - accuracy: 0.9453 - val_loss: 0.3587 - val_accuracy: 0.8999\n",
            "23/23 [==============================] - 0s 2ms/step - loss: 0.3587 - accuracy: 0.8999\n",
            "Test accuracy: 0.8998609185218811\n",
            "1/1 [==============================] - 0s 69ms/step\n",
            "Predicted class: 2\n"
          ]
        },
        {
          "output_type": "error",
          "ename": "NotImplementedError",
          "evalue": "ignored",
          "traceback": [
            "\u001b[0;31m---------------------------------------------------------------------------\u001b[0m",
            "\u001b[0;31mNotImplementedError\u001b[0m                       Traceback (most recent call last)",
            "\u001b[0;32m<ipython-input-35-637f3763648f>\u001b[0m in \u001b[0;36m<cell line: 66>\u001b[0;34m()\u001b[0m\n\u001b[1;32m     64\u001b[0m \u001b[0;34m\u001b[0m\u001b[0m\n\u001b[1;32m     65\u001b[0m \u001b[0;31m# Export the TensorFlow model to Python code using m2cgen\u001b[0m\u001b[0;34m\u001b[0m\u001b[0;34m\u001b[0m\u001b[0m\n\u001b[0;32m---> 66\u001b[0;31m \u001b[0mcode\u001b[0m \u001b[0;34m=\u001b[0m \u001b[0mm2c\u001b[0m\u001b[0;34m.\u001b[0m\u001b[0mexport_to_python\u001b[0m\u001b[0;34m(\u001b[0m\u001b[0mloaded_model\u001b[0m\u001b[0;34m)\u001b[0m\u001b[0;34m\u001b[0m\u001b[0;34m\u001b[0m\u001b[0m\n\u001b[0m\u001b[1;32m     67\u001b[0m \u001b[0;32mwith\u001b[0m \u001b[0mopen\u001b[0m\u001b[0;34m(\u001b[0m\u001b[0;34m'cnn_model.py'\u001b[0m\u001b[0;34m,\u001b[0m \u001b[0;34m'w'\u001b[0m\u001b[0;34m)\u001b[0m \u001b[0;32mas\u001b[0m \u001b[0mf\u001b[0m\u001b[0;34m:\u001b[0m\u001b[0;34m\u001b[0m\u001b[0;34m\u001b[0m\u001b[0m\n\u001b[1;32m     68\u001b[0m     \u001b[0mf\u001b[0m\u001b[0;34m.\u001b[0m\u001b[0mwrite\u001b[0m\u001b[0;34m(\u001b[0m\u001b[0mcode\u001b[0m\u001b[0;34m)\u001b[0m\u001b[0;34m\u001b[0m\u001b[0;34m\u001b[0m\u001b[0m\n",
            "\u001b[0;32m/usr/local/lib/python3.10/dist-packages/m2cgen/exporters.py\u001b[0m in \u001b[0;36mexport_to_python\u001b[0;34m(model, indent, function_name)\u001b[0m\n\u001b[1;32m     55\u001b[0m         \u001b[0mfunction_name\u001b[0m\u001b[0;34m=\u001b[0m\u001b[0mfunction_name\u001b[0m\u001b[0;34m\u001b[0m\u001b[0;34m\u001b[0m\u001b[0m\n\u001b[1;32m     56\u001b[0m     )\n\u001b[0;32m---> 57\u001b[0;31m     \u001b[0;32mreturn\u001b[0m \u001b[0m_export\u001b[0m\u001b[0;34m(\u001b[0m\u001b[0mmodel\u001b[0m\u001b[0;34m,\u001b[0m \u001b[0minterpreter\u001b[0m\u001b[0;34m)\u001b[0m\u001b[0;34m\u001b[0m\u001b[0;34m\u001b[0m\u001b[0m\n\u001b[0m\u001b[1;32m     58\u001b[0m \u001b[0;34m\u001b[0m\u001b[0m\n\u001b[1;32m     59\u001b[0m \u001b[0;34m\u001b[0m\u001b[0m\n",
            "\u001b[0;32m/usr/local/lib/python3.10/dist-packages/m2cgen/exporters.py\u001b[0m in \u001b[0;36m_export\u001b[0;34m(model, interpreter)\u001b[0m\n\u001b[1;32m    456\u001b[0m \u001b[0;34m\u001b[0m\u001b[0m\n\u001b[1;32m    457\u001b[0m \u001b[0;32mdef\u001b[0m \u001b[0m_export\u001b[0m\u001b[0;34m(\u001b[0m\u001b[0mmodel\u001b[0m\u001b[0;34m,\u001b[0m \u001b[0minterpreter\u001b[0m\u001b[0;34m)\u001b[0m\u001b[0;34m:\u001b[0m\u001b[0;34m\u001b[0m\u001b[0;34m\u001b[0m\u001b[0m\n\u001b[0;32m--> 458\u001b[0;31m     \u001b[0massembler_cls\u001b[0m \u001b[0;34m=\u001b[0m \u001b[0mget_assembler_cls\u001b[0m\u001b[0;34m(\u001b[0m\u001b[0mmodel\u001b[0m\u001b[0;34m)\u001b[0m\u001b[0;34m\u001b[0m\u001b[0;34m\u001b[0m\u001b[0m\n\u001b[0m\u001b[1;32m    459\u001b[0m     \u001b[0mmodel_ast\u001b[0m \u001b[0;34m=\u001b[0m \u001b[0massembler_cls\u001b[0m\u001b[0;34m(\u001b[0m\u001b[0mmodel\u001b[0m\u001b[0;34m)\u001b[0m\u001b[0;34m.\u001b[0m\u001b[0massemble\u001b[0m\u001b[0;34m(\u001b[0m\u001b[0;34m)\u001b[0m\u001b[0;34m\u001b[0m\u001b[0;34m\u001b[0m\u001b[0m\n\u001b[1;32m    460\u001b[0m     \u001b[0;32mreturn\u001b[0m \u001b[0minterpreter\u001b[0m\u001b[0;34m.\u001b[0m\u001b[0minterpret\u001b[0m\u001b[0;34m(\u001b[0m\u001b[0mmodel_ast\u001b[0m\u001b[0;34m)\u001b[0m\u001b[0;34m\u001b[0m\u001b[0;34m\u001b[0m\u001b[0m\n",
            "\u001b[0;32m/usr/local/lib/python3.10/dist-packages/m2cgen/assemblers/__init__.py\u001b[0m in \u001b[0;36mget_assembler_cls\u001b[0;34m(model)\u001b[0m\n\u001b[1;32m    145\u001b[0m \u001b[0;34m\u001b[0m\u001b[0m\n\u001b[1;32m    146\u001b[0m     \u001b[0;32mif\u001b[0m \u001b[0;32mnot\u001b[0m \u001b[0massembler_cls\u001b[0m\u001b[0;34m:\u001b[0m\u001b[0;34m\u001b[0m\u001b[0;34m\u001b[0m\u001b[0m\n\u001b[0;32m--> 147\u001b[0;31m         \u001b[0;32mraise\u001b[0m \u001b[0mNotImplementedError\u001b[0m\u001b[0;34m(\u001b[0m\u001b[0;34mf\"Model '{model_name}' is not supported\"\u001b[0m\u001b[0;34m)\u001b[0m\u001b[0;34m\u001b[0m\u001b[0;34m\u001b[0m\u001b[0m\n\u001b[0m\u001b[1;32m    148\u001b[0m \u001b[0;34m\u001b[0m\u001b[0m\n\u001b[1;32m    149\u001b[0m     \u001b[0;32mreturn\u001b[0m \u001b[0massembler_cls\u001b[0m\u001b[0;34m\u001b[0m\u001b[0;34m\u001b[0m\u001b[0m\n",
            "\u001b[0;31mNotImplementedError\u001b[0m: Model 'keras_Sequential' is not supported"
          ]
        },
        {
          "output_type": "display_data",
          "data": {
            "text/plain": [
              "<Figure size 640x480 with 1 Axes>"
            ],
            "image/png": "[encoded data removed]"
          },
          "metadata": {}
        }
      ]
    },
    {
      "cell_type": "code",
      "source": [
        "%matplotlib inline\n",
        "import matplotlib.pyplot as plt\n",
        "from sklearn import datasets, metrics\n",
        "from sklearn.model_selection import train_test_split\n",
        "from sklearn.svm import SVC\n",
        "import numpy as np\n",
        "import cv2\n",
        "import m2cgen as m2c\n",
        "\n",
        "# Load digits dataset\n",
        "data = datasets.load_digits()\n",
        "\n",
        "# Resize and normalize images\n",
        "image_ds = []\n",
        "for img in data.images:\n",
        "    res = cv2.resize(img, dsize=(12, 12))\n",
        "    res = res / 16\n",
        "    image_ds.append(res)\n",
        "\n",
        "plt.imshow((image_ds[78]), cmap='gray')\n",
        "\n",
        "img_data = np.asarray(image_ds)\n",
        "flattened_data = img_data.reshape((len(image_ds), -1))\n",
        "\n",
        "# Replace SVM classifier with another classifier of your choice\n",
        "clf = SVC()\n",
        "\n",
        "X_train, X_test, y_train, y_test = train_test_split(\n",
        "    flattened_data, data.target, test_size=0.4, shuffle=False\n",
        ")\n",
        "\n",
        "clf.fit(X_train, y_train)\n",
        "\n",
        "predicted = clf.predict(X_test)\n",
        "\n",
        "plt.imshow(X_test[12].reshape((12, 12)))\n",
        "plt.show()\n",
        "\n",
        "print(\"Predicted: \" + str(predicted[12]))\n",
        "\n",
        "print(\n",
        "    f\"Classification report for classifier {clf}:\\n\"\n",
        "    f\"{metrics.classification_report(y_test, predicted)}\\n\"\n",
        ")\n",
        "\n",
        "# Export the model to Python code using m2cgen\n",
        "code = m2c.export_to_python(clf)\n",
        "with open('your_model.py', 'w') as f:\n",
        "    f.write(code)\n",
        "\n",
        "# Example input data for prediction\n",
        "arr = [0, 0, 0, 0, 0, 0, 0, 0, 0, 0, 0, 0, 0, 0, 0.648438, 0.820313, 0.828125, 0.75, 0.75, 0.75, 0.742188, 0, 0, 0, 0, 0, 0.65625, 0.757813, 0.648438, 0.5625, 0, 0, 0, 0, 0, 0, 0, 0, 0.65625, 0.75, 0, 0, 0, 0, 0, 0, 0, 0, 0, 0, 0.734375, 0.742188, 0, 0, 0, 0, 0, 0, 0, 0, 0, 0, 0.75, 0.546875, 0.640625, 0.640625, 0, 0, 0, 0, 0, 0, 0, 0, 0.734375, 0.75, 0.742188, 0.742188, 0.75, 0.75, 0.546875, 0, 0, 0, 0, 0, 0, 0, 0, 0, 0, 0, 0.734375, 0.648438, 0, 0, 0, 0, 0, 0, 0, 0, 0, 0, 0, 0.75, 0, 0, 0, 0, 0, 0, 0, 0, 0, 0, 0, 0.742188, 0, 0, 0, 0, 0, 0, 0, 0, 0, 0, 0.75, 0, 0, 0, 0, 0, 0, 0.539063, 0, 0, 0, 0.65625, 0.75, 0, 0, 0]\n",
        "b = np.asarray(arr).reshape((12, 12))\n",
        "plt.imshow(b, cmap='gray')\n",
        "plt.show()\n",
        "\n",
        "print('Prediction: ' + str(clf.predict([arr])[0]))\n"
      ],
      "metadata": {
        "colab": {
          "base_uri": "https://localhost:8080/",
          "height": 1000
        },
        "id": "Z9tNgg2fbww-",
        "outputId": "bafdacdc-98ec-4cfd-8d60-2ae1304dca43"
      },
      "execution_count": 36,
      "outputs": [
        {
          "output_type": "display_data",
          "data": {
            "text/plain": [
              "<Figure size 640x480 with 1 Axes>"
            ],
            "image/png": "[encoded data removed]"
          },
          "metadata": {}
        },
        {
          "output_type": "stream",
          "name": "stdout",
          "text": [
            "Predicted: 3\n",
            "Classification report for classifier SVC():\n",
            "              precision    recall  f1-score   support\n",
            "\n",
            "           0       1.00      0.99      0.99        71\n",
            "           1       0.99      0.93      0.96        73\n",
            "           2       0.99      0.97      0.98        71\n",
            "           3       0.95      0.84      0.89        74\n",
            "           4       0.99      0.96      0.97        74\n",
            "           5       0.92      0.99      0.95        71\n",
            "           6       0.99      0.99      0.99        74\n",
            "           7       0.92      1.00      0.96        72\n",
            "           8       0.92      0.96      0.94        68\n",
            "           9       0.91      0.94      0.92        71\n",
            "\n",
            "    accuracy                           0.96       719\n",
            "   macro avg       0.96      0.96      0.96       719\n",
            "weighted avg       0.96      0.96      0.96       719\n",
            "\n",
            "\n"
          ]
        },
        {
          "output_type": "display_data",
          "data": {
            "text/plain": [
              "<Figure size 640x480 with 1 Axes>"
            ],
            "image/png": "[encoded data removed]"
          },
          "metadata": {}
        },
        {
          "output_type": "stream",
          "name": "stdout",
          "text": [
            "Prediction: 5\n"
          ]
        }
      ]
    },
    {
      "cell_type": "code",
      "source": [
        "!python-minimizer your_model.py -o your_model_min.py\n"
      ],
      "metadata": {
        "id": "0s6X3b7Nb7Uw"
      },
      "execution_count": 38,
      "outputs": []
    },
    {
      "cell_type": "code",
      "source": [
        "%matplotlib inline\n",
        "import matplotlib.pyplot as plt\n",
        "from sklearn import datasets, metrics\n",
        "from sklearn.model_selection import train_test_split\n",
        "from sklearn.neighbors import KNeighborsClassifier\n",
        "import numpy as np\n",
        "import cv2\n",
        "import m2cgen as m2c\n",
        "\n",
        "# Load digits dataset\n",
        "data = datasets.load_digits()\n",
        "\n",
        "# Resize and normalize images\n",
        "image_ds = []\n",
        "for img in data.images:\n",
        "    res = cv2.resize(img, dsize=(12, 12))\n",
        "    res = res / 16\n",
        "    image_ds.append(res)\n",
        "\n",
        "plt.imshow((image_ds[78]), cmap='gray')\n",
        "\n",
        "img_data = np.asarray(image_ds)\n",
        "flattened_data = img_data.reshape((len(image_ds), -1))\n",
        "\n",
        "# Replace kNN classifier with another classifier of your choice\n",
        "clf = KNeighborsClassifier(n_neighbors=3)\n",
        "\n",
        "X_train, X_test, y_train, y_test = train_test_split(\n",
        "    flattened_data, data.target, test_size=0.4, shuffle=False\n",
        ")\n",
        "\n",
        "clf.fit(X_train, y_train)\n",
        "\n",
        "predicted = clf.predict(X_test)\n",
        "\n",
        "plt.imshow(X_test[12].reshape((12, 12)))\n",
        "plt.show()\n",
        "\n",
        "print(\"Predicted: \" + str(predicted[12]))\n",
        "\n",
        "print(\n",
        "    f\"Classification report for classifier {clf}:\\n\"\n",
        "    f\"{metrics.classification_report(y_test, predicted)}\\n\"\n",
        ")\n",
        "\n",
        "# Export the model to Python code using m2cgen\n",
        "code = m2c.export_to_python(clf)\n",
        "with open('knn_model.py', 'w') as f:\n",
        "    f.write(code)\n",
        "\n",
        "# Example input data for prediction\n",
        "arr = [0, 0, 0, 0, 0, 0, 0, 0, 0, 0, 0, 0, 0, 0, 0.648438, 0.820313, 0.828125, 0.75, 0.75, 0.75, 0.742188, 0, 0, 0, 0, 0, 0.65625, 0.757813, 0.648438, 0.5625, 0, 0, 0, 0, 0, 0, 0, 0, 0.65625, 0.75, 0, 0, 0, 0, 0, 0, 0, 0, 0, 0, 0.734375, 0.742188, 0, 0, 0, 0, 0, 0, 0, 0, 0, 0, 0.75, 0.546875, 0.640625, 0.640625, 0, 0, 0, 0, 0, 0, 0, 0, 0.734375, 0.75, 0.742188, 0.742188, 0.75, 0.75, 0.546875, 0, 0, 0, 0, 0, 0, 0, 0, 0, 0, 0, 0.734375, 0.648438, 0, 0, 0, 0, 0, 0, 0, 0, 0, 0, 0, 0.75, 0, 0, 0, 0, 0, 0, 0, 0, 0, 0, 0, 0.742188, 0, 0, 0, 0, 0, 0, 0, 0, 0, 0, 0.75, 0, 0, 0, 0, 0, 0, 0.539063, 0, 0, 0, 0.65625, 0.75, 0, 0, 0]\n",
        "b = np.asarray(arr).reshape((12, 12))\n",
        "plt.imshow(b, cmap='gray')\n",
        "plt.show()\n",
        "\n",
        "print('Prediction: ' + str(clf.predict([arr])[0]))\n"
      ],
      "metadata": {
        "id": "oAMShB6mc4Cm",
        "outputId": "5bc55b4f-4105-4c70-e96b-1dfb9f3a0c34",
        "colab": {
          "base_uri": "https://localhost:8080/",
          "height": 1000
        }
      },
      "execution_count": 39,
      "outputs": [
        {
          "output_type": "display_data",
          "data": {
            "text/plain": [
              "<Figure size 640x480 with 1 Axes>"
            ],
            "image/png": "[encoded data removed]"
          },
          "metadata": {}
        },
        {
          "output_type": "stream",
          "name": "stdout",
          "text": [
            "Predicted: 3\n",
            "Classification report for classifier KNeighborsClassifier(n_neighbors=3):\n",
            "              precision    recall  f1-score   support\n",
            "\n",
            "           0       0.99      0.99      0.99        71\n",
            "           1       0.97      0.95      0.96        73\n",
            "           2       0.96      0.96      0.96        71\n",
            "           3       0.96      0.92      0.94        74\n",
            "           4       0.97      0.95      0.96        74\n",
            "           5       0.96      0.99      0.97        71\n",
            "           6       0.99      1.00      0.99        74\n",
            "           7       0.96      1.00      0.98        72\n",
            "           8       0.98      0.96      0.97        68\n",
            "           9       0.92      0.96      0.94        71\n",
            "\n",
            "    accuracy                           0.97       719\n",
            "   macro avg       0.97      0.97      0.97       719\n",
            "weighted avg       0.97      0.97      0.97       719\n",
            "\n",
            "\n"
          ]
        },
        {
          "output_type": "error",
          "ename": "NotImplementedError",
          "evalue": "ignored",
          "traceback": [
            "\u001b[0;31m---------------------------------------------------------------------------\u001b[0m",
            "\u001b[0;31mNotImplementedError\u001b[0m                       Traceback (most recent call last)",
            "\u001b[0;32m<ipython-input-39-9c9af0586ae3>\u001b[0m in \u001b[0;36m<cell line: 47>\u001b[0;34m()\u001b[0m\n\u001b[1;32m     45\u001b[0m \u001b[0;34m\u001b[0m\u001b[0m\n\u001b[1;32m     46\u001b[0m \u001b[0;31m# Export the model to Python code using m2cgen\u001b[0m\u001b[0;34m\u001b[0m\u001b[0;34m\u001b[0m\u001b[0m\n\u001b[0;32m---> 47\u001b[0;31m \u001b[0mcode\u001b[0m \u001b[0;34m=\u001b[0m \u001b[0mm2c\u001b[0m\u001b[0;34m.\u001b[0m\u001b[0mexport_to_python\u001b[0m\u001b[0;34m(\u001b[0m\u001b[0mclf\u001b[0m\u001b[0;34m)\u001b[0m\u001b[0;34m\u001b[0m\u001b[0;34m\u001b[0m\u001b[0m\n\u001b[0m\u001b[1;32m     48\u001b[0m \u001b[0;32mwith\u001b[0m \u001b[0mopen\u001b[0m\u001b[0;34m(\u001b[0m\u001b[0;34m'knn_model.py'\u001b[0m\u001b[0;34m,\u001b[0m \u001b[0;34m'w'\u001b[0m\u001b[0;34m)\u001b[0m \u001b[0;32mas\u001b[0m \u001b[0mf\u001b[0m\u001b[0;34m:\u001b[0m\u001b[0;34m\u001b[0m\u001b[0;34m\u001b[0m\u001b[0m\n\u001b[1;32m     49\u001b[0m     \u001b[0mf\u001b[0m\u001b[0;34m.\u001b[0m\u001b[0mwrite\u001b[0m\u001b[0;34m(\u001b[0m\u001b[0mcode\u001b[0m\u001b[0;34m)\u001b[0m\u001b[0;34m\u001b[0m\u001b[0;34m\u001b[0m\u001b[0m\n",
            "\u001b[0;32m/usr/local/lib/python3.10/dist-packages/m2cgen/exporters.py\u001b[0m in \u001b[0;36mexport_to_python\u001b[0;34m(model, indent, function_name)\u001b[0m\n\u001b[1;32m     55\u001b[0m         \u001b[0mfunction_name\u001b[0m\u001b[0;34m=\u001b[0m\u001b[0mfunction_name\u001b[0m\u001b[0;34m\u001b[0m\u001b[0;34m\u001b[0m\u001b[0m\n\u001b[1;32m     56\u001b[0m     )\n\u001b[0;32m---> 57\u001b[0;31m     \u001b[0;32mreturn\u001b[0m \u001b[0m_export\u001b[0m\u001b[0;34m(\u001b[0m\u001b[0mmodel\u001b[0m\u001b[0;34m,\u001b[0m \u001b[0minterpreter\u001b[0m\u001b[0;34m)\u001b[0m\u001b[0;34m\u001b[0m\u001b[0;34m\u001b[0m\u001b[0m\n\u001b[0m\u001b[1;32m     58\u001b[0m \u001b[0;34m\u001b[0m\u001b[0m\n\u001b[1;32m     59\u001b[0m \u001b[0;34m\u001b[0m\u001b[0m\n",
            "\u001b[0;32m/usr/local/lib/python3.10/dist-packages/m2cgen/exporters.py\u001b[0m in \u001b[0;36m_export\u001b[0;34m(model, interpreter)\u001b[0m\n\u001b[1;32m    456\u001b[0m \u001b[0;34m\u001b[0m\u001b[0m\n\u001b[1;32m    457\u001b[0m \u001b[0;32mdef\u001b[0m \u001b[0m_export\u001b[0m\u001b[0;34m(\u001b[0m\u001b[0mmodel\u001b[0m\u001b[0;34m,\u001b[0m \u001b[0minterpreter\u001b[0m\u001b[0;34m)\u001b[0m\u001b[0;34m:\u001b[0m\u001b[0;34m\u001b[0m\u001b[0;34m\u001b[0m\u001b[0m\n\u001b[0;32m--> 458\u001b[0;31m     \u001b[0massembler_cls\u001b[0m \u001b[0;34m=\u001b[0m \u001b[0mget_assembler_cls\u001b[0m\u001b[0;34m(\u001b[0m\u001b[0mmodel\u001b[0m\u001b[0;34m)\u001b[0m\u001b[0;34m\u001b[0m\u001b[0;34m\u001b[0m\u001b[0m\n\u001b[0m\u001b[1;32m    459\u001b[0m     \u001b[0mmodel_ast\u001b[0m \u001b[0;34m=\u001b[0m \u001b[0massembler_cls\u001b[0m\u001b[0;34m(\u001b[0m\u001b[0mmodel\u001b[0m\u001b[0;34m)\u001b[0m\u001b[0;34m.\u001b[0m\u001b[0massemble\u001b[0m\u001b[0;34m(\u001b[0m\u001b[0;34m)\u001b[0m\u001b[0;34m\u001b[0m\u001b[0;34m\u001b[0m\u001b[0m\n\u001b[1;32m    460\u001b[0m     \u001b[0;32mreturn\u001b[0m \u001b[0minterpreter\u001b[0m\u001b[0;34m.\u001b[0m\u001b[0minterpret\u001b[0m\u001b[0;34m(\u001b[0m\u001b[0mmodel_ast\u001b[0m\u001b[0;34m)\u001b[0m\u001b[0;34m\u001b[0m\u001b[0;34m\u001b[0m\u001b[0m\n",
            "\u001b[0;32m/usr/local/lib/python3.10/dist-packages/m2cgen/assemblers/__init__.py\u001b[0m in \u001b[0;36mget_assembler_cls\u001b[0;34m(model)\u001b[0m\n\u001b[1;32m    145\u001b[0m \u001b[0;34m\u001b[0m\u001b[0m\n\u001b[1;32m    146\u001b[0m     \u001b[0;32mif\u001b[0m \u001b[0;32mnot\u001b[0m \u001b[0massembler_cls\u001b[0m\u001b[0;34m:\u001b[0m\u001b[0;34m\u001b[0m\u001b[0;34m\u001b[0m\u001b[0m\n\u001b[0;32m--> 147\u001b[0;31m         \u001b[0;32mraise\u001b[0m \u001b[0mNotImplementedError\u001b[0m\u001b[0;34m(\u001b[0m\u001b[0;34mf\"Model '{model_name}' is not supported\"\u001b[0m\u001b[0;34m)\u001b[0m\u001b[0;34m\u001b[0m\u001b[0;34m\u001b[0m\u001b[0m\n\u001b[0m\u001b[1;32m    148\u001b[0m \u001b[0;34m\u001b[0m\u001b[0m\n\u001b[1;32m    149\u001b[0m     \u001b[0;32mreturn\u001b[0m \u001b[0massembler_cls\u001b[0m\u001b[0;34m\u001b[0m\u001b[0;34m\u001b[0m\u001b[0m\n",
            "\u001b[0;31mNotImplementedError\u001b[0m: Model 'sklearn_KNeighborsClassifier' is not supported"
          ]
        }
      ]
    }
  ]
}