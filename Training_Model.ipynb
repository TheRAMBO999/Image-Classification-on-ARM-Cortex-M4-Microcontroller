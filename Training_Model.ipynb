{
  "nbformat": 4,
  "nbformat_minor": 0,
  "metadata": {
    "colab": {
      "provenance": []
    },
    "kernelspec": {
      "name": "python3",
      "display_name": "Python 3"
    },
    "language_info": {
      "name": "python"
    }
  },
  "cells": [
    {
      "cell_type": "code",
      "execution_count": 1,
      "metadata": {
        "colab": {
          "base_uri": "https://localhost:8080/"
        },
        "id": "GB6y4RFATlt6",
        "outputId": "9b754538-502a-4329-e987-6453c1efc618"
      },
      "outputs": [
        {
          "output_type": "stream",
          "name": "stdout",
          "text": [
            "Collecting m2cgen\n",
            "  Downloading m2cgen-0.10.0-py3-none-any.whl (92 kB)\n",
            "\u001b[?25l     \u001b[90m━━━━━━━━━━━━━━━━━━━━━━━━━━━━━━━━━━━━━━━━\u001b[0m \u001b[32m0.0/92.2 kB\u001b[0m \u001b[31m?\u001b[0m eta \u001b[36m-:--:--\u001b[0m\r\u001b[2K     \u001b[90m━━━━━━━━━━━━━━━━━━━━━━━━━━━━━━━━━━━━━━━━\u001b[0m \u001b[32m92.2/92.2 kB\u001b[0m \u001b[31m2.9 MB/s\u001b[0m eta \u001b[36m0:00:00\u001b[0m\n",
            "\u001b[?25hRequirement already satisfied: numpy in /usr/local/lib/python3.10/dist-packages (from m2cgen) (1.23.5)\n",
            "Installing collected packages: m2cgen\n",
            "Successfully installed m2cgen-0.10.0\n"
          ]
        }
      ],
      "source": [
        "!pip install m2cgen"
      ]
    },
    {
      "cell_type": "code",
      "source": [
        "%matplotlib inline"
      ],
      "metadata": {
        "id": "pJAG79gMToI_"
      },
      "execution_count": 2,
      "outputs": []
    },
    {
      "cell_type": "code",
      "source": [
        "%matplotlib inline\n",
        "import matplotlib.pyplot as plt\n",
        "from sklearn import datasets, metrics\n",
        "from sklearn.model_selection import train_test_split\n",
        "from sklearn.linear_model import LogisticRegression\n",
        "import numpy as np\n",
        "import cv2\n",
        "import m2cgen as m2c  # Import m2cgen library\n",
        "\n",
        "# Load digits dataset\n",
        "data = datasets.load_digits()\n",
        "\n",
        "# Resize and normalize images\n",
        "image_ds = []\n",
        "for img in data.images:\n",
        "    res = cv2.resize(img, dsize=(12, 12))\n",
        "    res = res / 16\n",
        "    image_ds.append(res)\n",
        "\n",
        "plt.imshow((image_ds[78]), cmap='gray')\n",
        "\n",
        "img_data = np.asarray(image_ds)\n",
        "flattened_data = img_data.reshape((len(image_ds), -1))\n",
        "\n",
        "# Replace SVM classifier with Logistic Regression\n",
        "clf = LogisticRegression()\n",
        "\n",
        "X_train, X_test, y_train, y_test = train_test_split(\n",
        "    flattened_data, data.target, test_size=0.4, shuffle=False\n",
        ")\n",
        "\n",
        "clf.fit(X_train, y_train)\n",
        "\n",
        "predicted = clf.predict(X_test)\n",
        "\n",
        "plt.imshow(X_test[12].reshape((12, 12)))\n",
        "plt.show()\n",
        "\n",
        "print(\"Predicted: \" + str(predicted[12]))\n",
        "\n",
        "print(\n",
        "    f\"Classification report for classifier {clf}:\\n\"\n",
        "    f\"{metrics.classification_report(y_test, predicted)}\\n\"\n",
        ")\n",
        "\n",
        "# Export the model to Python code\n",
        "code = m2c.export_to_python(clf)\n",
        "with open('logistic_regression.py', 'w') as f:\n",
        "    f.write(code)\n",
        "\n",
        "# Example input data for prediction\n",
        "arr = [0, 0, 0, 0, 0, 0, 0, 0, 0, 0, 0, 0, 0, 0, 0.648438, 0.820313, 0.828125, 0.75, 0.75, 0.75, 0.742188, 0, 0, 0, 0, 0, 0.65625, 0.757813, 0.648438, 0.5625, 0, 0, 0, 0, 0, 0, 0, 0, 0.65625, 0.75, 0, 0, 0, 0, 0, 0, 0, 0, 0, 0, 0.734375, 0.742188, 0, 0, 0, 0, 0, 0, 0, 0, 0, 0, 0.75, 0.546875, 0.640625, 0.640625, 0, 0, 0, 0, 0, 0, 0, 0, 0.734375, 0.75, 0.742188, 0.742188, 0.75, 0.75, 0.546875, 0, 0, 0, 0, 0, 0, 0, 0, 0, 0, 0, 0.734375, 0.648438, 0, 0, 0, 0, 0, 0, 0, 0, 0, 0, 0, 0.75, 0, 0, 0, 0, 0, 0, 0, 0, 0, 0, 0, 0.742188, 0, 0, 0, 0, 0, 0, 0, 0, 0, 0, 0.75, 0, 0, 0, 0, 0, 0, 0.539063, 0, 0, 0, 0.65625, 0.75, 0, 0, 0]\n",
        "b = np.asarray(arr).reshape((12, 12))\n",
        "plt.imshow(b, cmap='gray')\n",
        "plt.show()\n",
        "\n",
        "print('Prediction: ' + str(clf.predict([arr])[0]))\n"
      ],
      "metadata": {
        "colab": {
          "base_uri": "https://localhost:8080/",
          "height": 1000
        },
        "id": "bDRgUb5WTxwb",
        "outputId": "fcacb975-5be5-4448-d401-916fead54d9c"
      },
      "execution_count": 3,
      "outputs": [
        {
          "output_type": "stream",
          "name": "stderr",
          "text": [
            "/usr/local/lib/python3.10/dist-packages/sklearn/linear_model/_logistic.py:458: ConvergenceWarning: lbfgs failed to converge (status=1):\n",
            "STOP: TOTAL NO. of ITERATIONS REACHED LIMIT.\n",
            "\n",
            "Increase the number of iterations (max_iter) or scale the data as shown in:\n",
            "    https://scikit-learn.org/stable/modules/preprocessing.html\n",
            "Please also refer to the documentation for alternative solver options:\n",
            "    https://scikit-learn.org/stable/modules/linear_model.html#logistic-regression\n",
            "  n_iter_i = _check_optimize_result(\n"
          ]
        },
        {
          "output_type": "display_data",
          "data": {
            "text/plain": [
              "<Figure size 640x480 with 1 Axes>"
            ],
            "image/png": "[encoded data removed]"
          },
          "metadata": {}
        },
        {
          "output_type": "stream",
          "name": "stdout",
          "text": [
            "Predicted: 3\n",
            "Classification report for classifier LogisticRegression():\n",
            "              precision    recall  f1-score   support\n",
            "\n",
            "           0       1.00      0.97      0.99        71\n",
            "           1       0.93      0.78      0.85        73\n",
            "           2       1.00      0.97      0.99        71\n",
            "           3       0.91      0.81      0.86        74\n",
            "           4       0.97      0.92      0.94        74\n",
            "           5       0.88      0.99      0.93        71\n",
            "           6       0.95      0.99      0.97        74\n",
            "           7       0.93      0.97      0.95        72\n",
            "           8       0.88      0.90      0.89        68\n",
            "           9       0.81      0.94      0.87        71\n",
            "\n",
            "    accuracy                           0.92       719\n",
            "   macro avg       0.93      0.92      0.92       719\n",
            "weighted avg       0.93      0.92      0.92       719\n",
            "\n",
            "\n"
          ]
        },
        {
          "output_type": "display_data",
          "data": {
            "text/plain": [
              "<Figure size 640x480 with 1 Axes>"
            ],
            "image/png": "[encoded data removed]"
          },
          "metadata": {}
        },
        {
          "output_type": "stream",
          "name": "stdout",
          "text": [
            "Prediction: 5\n"
          ]
        }
      ]
    },
    {
      "cell_type": "code",
      "source": [
        "%matplotlib inline\n",
        "import matplotlib.pyplot as plt\n",
        "from sklearn import datasets, metrics\n",
        "from sklearn.model_selection import train_test_split\n",
        "from sklearn.tree import DecisionTreeClassifier\n",
        "import numpy as np\n",
        "import cv2\n",
        "import m2cgen as m2c  # Import m2cgen library\n",
        "\n",
        "# Load digits dataset\n",
        "data = datasets.load_digits()\n",
        "\n",
        "# Resize and normalize images\n",
        "image_ds = []\n",
        "for img in data.images:\n",
        "    res = cv2.resize(img, dsize=(12, 12))\n",
        "    res = res / 16\n",
        "    image_ds.append(res)\n",
        "\n",
        "plt.imshow((image_ds[78]), cmap='gray')\n",
        "\n",
        "img_data = np.asarray(image_ds)\n",
        "flattened_data = img_data.reshape((len(image_ds), -1))\n",
        "\n",
        "# Replace SVM classifier with Decision Tree\n",
        "clf = DecisionTreeClassifier()\n",
        "\n",
        "X_train, X_test, y_train, y_test = train_test_split(\n",
        "    flattened_data, data.target, test_size=0.4, shuffle=False\n",
        ")\n",
        "\n",
        "clf.fit(X_train, y_train)\n",
        "\n",
        "predicted = clf.predict(X_test)\n",
        "\n",
        "plt.imshow(X_test[12].reshape((12, 12)))\n",
        "plt.show()\n",
        "\n",
        "print(\"Predicted: \" + str(predicted[12]))\n",
        "\n",
        "print(\n",
        "    f\"Classification report for classifier {clf}:\\n\"\n",
        "    f\"{metrics.classification_report(y_test, predicted)}\\n\"\n",
        ")\n",
        "\n",
        "# Export the model to Python code\n",
        "code = m2c.export_to_python(clf)\n",
        "with open('decision_tree.py', 'w') as f:\n",
        "    f.write(code)\n",
        "\n",
        "# Example input data for prediction\n",
        "arr = [0, 0, 0, 0, 0, 0, 0, 0, 0, 0, 0, 0, 0, 0, 0.648438, 0.820313, 0.828125, 0.75, 0.75, 0.75, 0.742188, 0, 0, 0, 0, 0, 0.65625, 0.757813, 0.648438, 0.5625, 0, 0, 0, 0, 0, 0, 0, 0, 0.65625, 0.75, 0, 0, 0, 0, 0, 0, 0, 0, 0, 0, 0.734375, 0.742188, 0, 0, 0, 0, 0, 0, 0, 0, 0, 0, 0.75, 0.546875, 0.640625, 0.640625, 0, 0, 0, 0, 0, 0, 0, 0, 0.734375, 0.75, 0.742188, 0.742188, 0.75, 0.75, 0.546875, 0, 0, 0, 0, 0, 0, 0, 0, 0, 0, 0, 0.734375, 0.648438, 0, 0, 0, 0, 0, 0, 0, 0, 0, 0, 0, 0.75, 0, 0, 0, 0, 0, 0, 0, 0, 0, 0, 0, 0.742188, 0, 0, 0, 0, 0, 0, 0, 0, 0, 0, 0.75, 0, 0, 0, 0, 0, 0, 0.539063, 0, 0, 0, 0.65625, 0.75, 0, 0, 0]\n",
        "b = np.asarray(arr).reshape((12, 12))\n",
        "plt.imshow(b, cmap='gray')\n",
        "plt.show()\n",
        "\n",
        "print('Prediction: ' + str(clf.predict([arr])[0]))\n"
      ],
      "metadata": {
        "colab": {
          "base_uri": "https://localhost:8080/",
          "height": 1000
        },
        "id": "EWxXC5RpW9Kr",
        "outputId": "e179348c-6db7-4328-de01-5fddefb3822a"
      },
      "execution_count": 4,
      "outputs": [
        {
          "output_type": "display_data",
          "data": {
            "text/plain": [
              "<Figure size 640x480 with 1 Axes>"
            ],
            "image/png": "[encoded data removed]"
          },
          "metadata": {}
        },
        {
          "output_type": "stream",
          "name": "stdout",
          "text": [
            "Predicted: 3\n",
            "Classification report for classifier DecisionTreeClassifier():\n",
            "              precision    recall  f1-score   support\n",
            "\n",
            "           0       0.91      0.90      0.91        71\n",
            "           1       0.88      0.68      0.77        73\n",
            "           2       0.75      0.86      0.80        71\n",
            "           3       0.85      0.76      0.80        74\n",
            "           4       0.83      0.81      0.82        74\n",
            "           5       0.93      0.92      0.92        71\n",
            "           6       0.85      0.97      0.91        74\n",
            "           7       0.93      0.92      0.92        72\n",
            "           8       0.70      0.66      0.68        68\n",
            "           9       0.73      0.86      0.79        71\n",
            "\n",
            "    accuracy                           0.83       719\n",
            "   macro avg       0.84      0.83      0.83       719\n",
            "weighted avg       0.84      0.83      0.83       719\n",
            "\n",
            "\n"
          ]
        },
        {
          "output_type": "display_data",
          "data": {
            "text/plain": [
              "<Figure size 640x480 with 1 Axes>"
            ],
            "image/png": "[encoded data removed]"
          },
          "metadata": {}
        },
        {
          "output_type": "stream",
          "name": "stdout",
          "text": [
            "Prediction: 4\n"
          ]
        }
      ]
    },
    {
      "cell_type": "code",
      "source": [
        "%matplotlib inline\n",
        "import matplotlib.pyplot as plt\n",
        "from sklearn import datasets, metrics\n",
        "from sklearn.model_selection import train_test_split\n",
        "from sklearn.ensemble import RandomForestClassifier\n",
        "import numpy as np\n",
        "import cv2\n",
        "import m2cgen as m2c  # Import m2cgen library\n",
        "\n",
        "# Load digits dataset\n",
        "data = datasets.load_digits()\n",
        "\n",
        "# Resize and normalize images\n",
        "image_ds = []\n",
        "for img in data.images:\n",
        "    res = cv2.resize(img, dsize=(12, 12))\n",
        "    res = res / 16\n",
        "    image_ds.append(res)\n",
        "\n",
        "plt.imshow((image_ds[78]), cmap='gray')\n",
        "\n",
        "img_data = np.asarray(image_ds)\n",
        "flattened_data = img_data.reshape((len(image_ds), -1))\n",
        "\n",
        "# Replace SVM classifier with Random Forest\n",
        "clf = RandomForestClassifier()\n",
        "\n",
        "X_train, X_test, y_train, y_test = train_test_split(\n",
        "    flattened_data, data.target, test_size=0.4, shuffle=False\n",
        ")\n",
        "\n",
        "clf.fit(X_train, y_train)\n",
        "\n",
        "predicted = clf.predict(X_test)\n",
        "\n",
        "plt.imshow(X_test[12].reshape((12, 12)))\n",
        "plt.show()\n",
        "\n",
        "print(\"Predicted: \" + str(predicted[12]))\n",
        "\n",
        "print(\n",
        "    f\"Classification report for classifier {clf}:\\n\"\n",
        "    f\"{metrics.classification_report(y_test, predicted)}\\n\"\n",
        ")\n",
        "\n",
        "# Export the model to Python code\n",
        "code = m2c.export_to_python(clf)\n",
        "with open('random_forest.py', 'w') as f:\n",
        "    f.write(code)\n",
        "\n",
        "# Example input data for prediction\n",
        "arr = [0, 0, 0, 0, 0, 0, 0, 0, 0, 0, 0, 0, 0, 0, 0.648438, 0.820313, 0.828125, 0.75, 0.75, 0.75, 0.742188, 0, 0, 0, 0, 0, 0.65625, 0.757813, 0.648438, 0.5625, 0, 0, 0, 0, 0, 0, 0, 0, 0.65625, 0.75, 0, 0, 0, 0, 0, 0, 0, 0, 0, 0, 0.734375, 0.742188, 0, 0, 0, 0, 0, 0, 0, 0, 0, 0, 0.75, 0.546875, 0.640625, 0.640625, 0, 0, 0, 0, 0, 0, 0, 0, 0.734375, 0.75, 0.742188, 0.742188, 0.75, 0.75, 0.546875, 0, 0, 0, 0, 0, 0, 0, 0, 0, 0, 0, 0.734375, 0.648438, 0, 0, 0, 0, 0, 0, 0, 0, 0, 0, 0, 0.75, 0, 0, 0, 0, 0, 0, 0, 0, 0, 0, 0, 0.742188, 0, 0, 0, 0, 0, 0, 0, 0, 0, 0, 0.75, 0, 0, 0, 0, 0, 0, 0.539063, 0, 0, 0, 0.65625, 0.75, 0, 0, 0]\n",
        "b = np.asarray(arr).reshape((12, 12))\n",
        "plt.imshow(b, cmap='gray')\n",
        "plt.show()\n",
        "\n",
        "print('Prediction: ' + str(clf.predict([arr])[0]))\n"
      ],
      "metadata": {
        "id": "zHJk9uAmXfGf",
        "colab": {
          "base_uri": "https://localhost:8080/",
          "height": 1000
        },
        "outputId": "60989c0d-75a0-4552-af77-0801211084ea"
      },
      "execution_count": 5,
      "outputs": [
        {
          "output_type": "display_data",
          "data": {
            "text/plain": [
              "<Figure size 640x480 with 1 Axes>"
            ],
            "image/png": "[encoded data removed]"
          },
          "metadata": {}
        },
        {
          "output_type": "stream",
          "name": "stdout",
          "text": [
            "Predicted: 3\n",
            "Classification report for classifier RandomForestClassifier():\n",
            "              precision    recall  f1-score   support\n",
            "\n",
            "           0       0.99      0.96      0.97        71\n",
            "           1       0.95      0.85      0.90        73\n",
            "           2       0.98      0.90      0.94        71\n",
            "           3       0.89      0.84      0.86        74\n",
            "           4       0.96      0.95      0.95        74\n",
            "           5       0.89      0.96      0.93        71\n",
            "           6       0.99      1.00      0.99        74\n",
            "           7       0.96      0.99      0.97        72\n",
            "           8       0.83      0.88      0.86        68\n",
            "           9       0.81      0.92      0.86        71\n",
            "\n",
            "    accuracy                           0.92       719\n",
            "   macro avg       0.93      0.92      0.92       719\n",
            "weighted avg       0.93      0.92      0.92       719\n",
            "\n",
            "\n"
          ]
        },
        {
          "output_type": "display_data",
          "data": {
            "text/plain": [
              "<Figure size 640x480 with 1 Axes>"
            ],
            "image/png": "[encoded data removed]"
          },
          "metadata": {}
        },
        {
          "output_type": "stream",
          "name": "stdout",
          "text": [
            "Prediction: 5\n"
          ]
        }
      ]
    },
    {
      "cell_type": "code",
      "source": [
        "!pip install python-minimizer\n"
      ],
      "metadata": {
        "colab": {
          "base_uri": "https://localhost:8080/"
        },
        "id": "8Co2lh5IXqHV",
        "outputId": "3de386dd-5699-4ac7-8389-a40588238388"
      },
      "execution_count": 6,
      "outputs": [
        {
          "output_type": "stream",
          "name": "stdout",
          "text": [
            "Collecting python-minimizer\n",
            "  Downloading python_minimizer-2.0.1-py3-none-any.whl (6.8 kB)\n",
            "Installing collected packages: python-minimizer\n",
            "Successfully installed python-minimizer-2.0.1\n"
          ]
        }
      ]
    },
    {
      "cell_type": "code",
      "source": [
        "!python-minimizer decision_tree.py -o decision_tree_min.py\n"
      ],
      "metadata": {
        "id": "uw1oOZyzXtLd"
      },
      "execution_count": 7,
      "outputs": []
    },
    {
      "cell_type": "code",
      "source": [
        "!ls -alh decision_tree_min.py\n"
      ],
      "metadata": {
        "colab": {
          "base_uri": "https://localhost:8080/"
        },
        "id": "UtWjsfLeX2XQ",
        "outputId": "7d9a0adb-9e5c-4218-f2c5-7ea36ccd7ee2"
      },
      "execution_count": 8,
      "outputs": [
        {
          "output_type": "stream",
          "name": "stdout",
          "text": [
            "-rw-r--r-- 1 root root 8.5K Dec  6 15:27 decision_tree_min.py\n"
          ]
        }
      ]
    },
    {
      "cell_type": "code",
      "source": [
        "!python-minimizer logistic_regression.py -o logistic_regression_min.py\n"
      ],
      "metadata": {
        "id": "fXKV-B6NYAf2"
      },
      "execution_count": 10,
      "outputs": []
    },
    {
      "cell_type": "code",
      "source": [
        "!ls -alh logistic_regression_min.py"
      ],
      "metadata": {
        "colab": {
          "base_uri": "https://localhost:8080/"
        },
        "id": "dlfxZfBZYJu_",
        "outputId": "f63bb894-13d0-4e99-a075-d386ff82b8ee"
      },
      "execution_count": 11,
      "outputs": [
        {
          "output_type": "stream",
          "name": "stdout",
          "text": [
            "-rw-r--r-- 1 root root 44K Dec  6 15:27 logistic_regression_min.py\n"
          ]
        }
      ]
    },
    {
      "cell_type": "code",
      "source": [
        "!python-minimizer random_forest.py -o random_forest_min.py\n"
      ],
      "metadata": {
        "id": "ST2cUzkJYZ8B"
      },
      "execution_count": 12,
      "outputs": []
    },
    {
      "cell_type": "code",
      "source": [
        "!ls -alh random_forest_min.py\n"
      ],
      "metadata": {
        "colab": {
          "base_uri": "https://localhost:8080/"
        },
        "id": "BgPGBG5UYizT",
        "outputId": "31d2a178-2147-4072-db7d-76c58482d60a"
      },
      "execution_count": 13,
      "outputs": [
        {
          "output_type": "stream",
          "name": "stdout",
          "text": [
            "-rw-r--r-- 1 root root 1.1M Dec  6 15:27 random_forest_min.py\n"
          ]
        }
      ]
    }
  ]
}